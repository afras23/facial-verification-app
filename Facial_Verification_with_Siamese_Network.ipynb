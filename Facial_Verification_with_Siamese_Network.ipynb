{
 "cells": [
  {
   "cell_type": "code",
   "execution_count": 1,
   "id": "d450df7c-08c8-4a0d-a93d-d07f8f68a52e",
   "metadata": {},
   "outputs": [],
   "source": [
    "# Installing necessary packages:"
   ]
  },
  {
   "cell_type": "code",
   "execution_count": 2,
   "id": "3db5f825-b3c8-44dc-8872-5b365795f0c2",
   "metadata": {
    "scrolled": true
   },
   "outputs": [
    {
     "name": "stdout",
     "output_type": "stream",
     "text": [
      "Requirement already satisfied: tensorflow==2.15.0 in ./lib/python3.11/site-packages (2.15.0)\n",
      "Requirement already satisfied: tensorflow-metal in ./lib/python3.11/site-packages (1.2.0)\n",
      "Requirement already satisfied: matplotlib in ./lib/python3.11/site-packages (3.10.0)\n",
      "Requirement already satisfied: tensorflow-macos==2.15.0 in ./lib/python3.11/site-packages (from tensorflow==2.15.0) (2.15.0)\n",
      "Requirement already satisfied: absl-py>=1.0.0 in ./lib/python3.11/site-packages (from tensorflow-macos==2.15.0->tensorflow==2.15.0) (2.1.0)\n",
      "Requirement already satisfied: astunparse>=1.6.0 in ./lib/python3.11/site-packages (from tensorflow-macos==2.15.0->tensorflow==2.15.0) (1.6.3)\n",
      "Requirement already satisfied: flatbuffers>=23.5.26 in ./lib/python3.11/site-packages (from tensorflow-macos==2.15.0->tensorflow==2.15.0) (25.1.24)\n",
      "Requirement already satisfied: gast!=0.5.0,!=0.5.1,!=0.5.2,>=0.2.1 in ./lib/python3.11/site-packages (from tensorflow-macos==2.15.0->tensorflow==2.15.0) (0.6.0)\n",
      "Requirement already satisfied: google-pasta>=0.1.1 in ./lib/python3.11/site-packages (from tensorflow-macos==2.15.0->tensorflow==2.15.0) (0.2.0)\n",
      "Requirement already satisfied: h5py>=2.9.0 in ./lib/python3.11/site-packages (from tensorflow-macos==2.15.0->tensorflow==2.15.0) (3.12.1)\n",
      "Requirement already satisfied: libclang>=13.0.0 in ./lib/python3.11/site-packages (from tensorflow-macos==2.15.0->tensorflow==2.15.0) (18.1.1)\n",
      "Requirement already satisfied: ml-dtypes~=0.2.0 in ./lib/python3.11/site-packages (from tensorflow-macos==2.15.0->tensorflow==2.15.0) (0.2.0)\n",
      "Requirement already satisfied: numpy<2.0.0,>=1.23.5 in ./lib/python3.11/site-packages (from tensorflow-macos==2.15.0->tensorflow==2.15.0) (1.26.4)\n",
      "Requirement already satisfied: opt-einsum>=2.3.2 in ./lib/python3.11/site-packages (from tensorflow-macos==2.15.0->tensorflow==2.15.0) (3.4.0)\n",
      "Requirement already satisfied: packaging in ./lib/python3.11/site-packages (from tensorflow-macos==2.15.0->tensorflow==2.15.0) (24.2)\n",
      "Requirement already satisfied: protobuf!=4.21.0,!=4.21.1,!=4.21.2,!=4.21.3,!=4.21.4,!=4.21.5,<5.0.0dev,>=3.20.3 in ./lib/python3.11/site-packages (from tensorflow-macos==2.15.0->tensorflow==2.15.0) (4.25.6)\n",
      "Requirement already satisfied: setuptools in ./lib/python3.11/site-packages (from tensorflow-macos==2.15.0->tensorflow==2.15.0) (65.5.0)\n",
      "Requirement already satisfied: six>=1.12.0 in ./lib/python3.11/site-packages (from tensorflow-macos==2.15.0->tensorflow==2.15.0) (1.17.0)\n",
      "Requirement already satisfied: termcolor>=1.1.0 in ./lib/python3.11/site-packages (from tensorflow-macos==2.15.0->tensorflow==2.15.0) (2.5.0)\n",
      "Requirement already satisfied: typing-extensions>=3.6.6 in ./lib/python3.11/site-packages (from tensorflow-macos==2.15.0->tensorflow==2.15.0) (4.12.2)\n",
      "Requirement already satisfied: wrapt<1.15,>=1.11.0 in ./lib/python3.11/site-packages (from tensorflow-macos==2.15.0->tensorflow==2.15.0) (1.14.1)\n",
      "Requirement already satisfied: tensorflow-io-gcs-filesystem>=0.23.1 in ./lib/python3.11/site-packages (from tensorflow-macos==2.15.0->tensorflow==2.15.0) (0.37.1)\n",
      "Requirement already satisfied: grpcio<2.0,>=1.24.3 in ./lib/python3.11/site-packages (from tensorflow-macos==2.15.0->tensorflow==2.15.0) (1.70.0)\n",
      "Requirement already satisfied: tensorboard<2.16,>=2.15 in ./lib/python3.11/site-packages (from tensorflow-macos==2.15.0->tensorflow==2.15.0) (2.15.2)\n",
      "Requirement already satisfied: tensorflow-estimator<2.16,>=2.15.0 in ./lib/python3.11/site-packages (from tensorflow-macos==2.15.0->tensorflow==2.15.0) (2.15.0)\n",
      "Requirement already satisfied: keras<2.16,>=2.15.0 in ./lib/python3.11/site-packages (from tensorflow-macos==2.15.0->tensorflow==2.15.0) (2.15.0)\n",
      "Requirement already satisfied: wheel~=0.35 in ./lib/python3.11/site-packages (from tensorflow-metal) (0.45.1)\n",
      "Requirement already satisfied: contourpy>=1.0.1 in ./lib/python3.11/site-packages (from matplotlib) (1.3.1)\n",
      "Requirement already satisfied: cycler>=0.10 in ./lib/python3.11/site-packages (from matplotlib) (0.12.1)\n",
      "Requirement already satisfied: fonttools>=4.22.0 in ./lib/python3.11/site-packages (from matplotlib) (4.56.0)\n",
      "Requirement already satisfied: kiwisolver>=1.3.1 in ./lib/python3.11/site-packages (from matplotlib) (1.4.8)\n",
      "Requirement already satisfied: pillow>=8 in ./lib/python3.11/site-packages (from matplotlib) (10.4.0)\n",
      "Requirement already satisfied: pyparsing>=2.3.1 in ./lib/python3.11/site-packages (from matplotlib) (3.2.1)\n",
      "Requirement already satisfied: python-dateutil>=2.7 in ./lib/python3.11/site-packages (from matplotlib) (2.9.0.post0)\n",
      "Requirement already satisfied: google-auth<3,>=1.6.3 in ./lib/python3.11/site-packages (from tensorboard<2.16,>=2.15->tensorflow-macos==2.15.0->tensorflow==2.15.0) (2.38.0)\n",
      "Requirement already satisfied: google-auth-oauthlib<2,>=0.5 in ./lib/python3.11/site-packages (from tensorboard<2.16,>=2.15->tensorflow-macos==2.15.0->tensorflow==2.15.0) (1.2.1)\n",
      "Requirement already satisfied: markdown>=2.6.8 in ./lib/python3.11/site-packages (from tensorboard<2.16,>=2.15->tensorflow-macos==2.15.0->tensorflow==2.15.0) (3.7)\n",
      "Requirement already satisfied: requests<3,>=2.21.0 in ./lib/python3.11/site-packages (from tensorboard<2.16,>=2.15->tensorflow-macos==2.15.0->tensorflow==2.15.0) (2.32.3)\n",
      "Requirement already satisfied: tensorboard-data-server<0.8.0,>=0.7.0 in ./lib/python3.11/site-packages (from tensorboard<2.16,>=2.15->tensorflow-macos==2.15.0->tensorflow==2.15.0) (0.7.2)\n",
      "Requirement already satisfied: werkzeug>=1.0.1 in ./lib/python3.11/site-packages (from tensorboard<2.16,>=2.15->tensorflow-macos==2.15.0->tensorflow==2.15.0) (3.1.3)\n",
      "Requirement already satisfied: cachetools<6.0,>=2.0.0 in ./lib/python3.11/site-packages (from google-auth<3,>=1.6.3->tensorboard<2.16,>=2.15->tensorflow-macos==2.15.0->tensorflow==2.15.0) (5.5.1)\n",
      "Requirement already satisfied: pyasn1-modules>=0.2.1 in ./lib/python3.11/site-packages (from google-auth<3,>=1.6.3->tensorboard<2.16,>=2.15->tensorflow-macos==2.15.0->tensorflow==2.15.0) (0.4.1)\n",
      "Requirement already satisfied: rsa<5,>=3.1.4 in ./lib/python3.11/site-packages (from google-auth<3,>=1.6.3->tensorboard<2.16,>=2.15->tensorflow-macos==2.15.0->tensorflow==2.15.0) (4.9)\n",
      "Requirement already satisfied: requests-oauthlib>=0.7.0 in ./lib/python3.11/site-packages (from google-auth-oauthlib<2,>=0.5->tensorboard<2.16,>=2.15->tensorflow-macos==2.15.0->tensorflow==2.15.0) (2.0.0)\n",
      "Requirement already satisfied: charset-normalizer<4,>=2 in ./lib/python3.11/site-packages (from requests<3,>=2.21.0->tensorboard<2.16,>=2.15->tensorflow-macos==2.15.0->tensorflow==2.15.0) (3.4.1)\n",
      "Requirement already satisfied: idna<4,>=2.5 in ./lib/python3.11/site-packages (from requests<3,>=2.21.0->tensorboard<2.16,>=2.15->tensorflow-macos==2.15.0->tensorflow==2.15.0) (3.10)\n",
      "Requirement already satisfied: urllib3<3,>=1.21.1 in ./lib/python3.11/site-packages (from requests<3,>=2.21.0->tensorboard<2.16,>=2.15->tensorflow-macos==2.15.0->tensorflow==2.15.0) (2.3.0)\n",
      "Requirement already satisfied: certifi>=2017.4.17 in ./lib/python3.11/site-packages (from requests<3,>=2.21.0->tensorboard<2.16,>=2.15->tensorflow-macos==2.15.0->tensorflow==2.15.0) (2025.1.31)\n",
      "Requirement already satisfied: MarkupSafe>=2.1.1 in ./lib/python3.11/site-packages (from werkzeug>=1.0.1->tensorboard<2.16,>=2.15->tensorflow-macos==2.15.0->tensorflow==2.15.0) (3.0.2)\n",
      "Requirement already satisfied: pyasn1<0.7.0,>=0.4.6 in ./lib/python3.11/site-packages (from pyasn1-modules>=0.2.1->google-auth<3,>=1.6.3->tensorboard<2.16,>=2.15->tensorflow-macos==2.15.0->tensorflow==2.15.0) (0.6.1)\n",
      "Requirement already satisfied: oauthlib>=3.0.0 in ./lib/python3.11/site-packages (from requests-oauthlib>=0.7.0->google-auth-oauthlib<2,>=0.5->tensorboard<2.16,>=2.15->tensorflow-macos==2.15.0->tensorflow==2.15.0) (3.2.2)\n",
      "\n",
      "\u001b[1m[\u001b[0m\u001b[34;49mnotice\u001b[0m\u001b[1;39;49m]\u001b[0m\u001b[39;49m A new release of pip is available: \u001b[0m\u001b[31;49m25.0.1\u001b[0m\u001b[39;49m -> \u001b[0m\u001b[32;49m25.1\u001b[0m\n",
      "\u001b[1m[\u001b[0m\u001b[34;49mnotice\u001b[0m\u001b[1;39;49m]\u001b[0m\u001b[39;49m To update, run: \u001b[0m\u001b[32;49mpip install --upgrade pip\u001b[0m\n"
     ]
    }
   ],
   "source": [
    "# TensorFlow 2.15.0 and TensorFlow-Metal to enable GPU acceleration on macOS using Apple's Metal framework.\n",
    "# Matplotlib for data visualization.\n",
    "\n",
    "!pip install tensorflow==2.15.0 tensorflow-metal matplotlib"
   ]
  },
  {
   "cell_type": "code",
   "execution_count": 3,
   "id": "b8914490-1d1a-47f7-9ecb-60da42469662",
   "metadata": {},
   "outputs": [
    {
     "name": "stdout",
     "output_type": "stream",
     "text": [
      "Requirement already satisfied: opencv-python in ./lib/python3.11/site-packages (4.11.0.86)\n",
      "Requirement already satisfied: numpy>=1.21.2 in ./lib/python3.11/site-packages (from opencv-python) (1.26.4)\n",
      "\n",
      "\u001b[1m[\u001b[0m\u001b[34;49mnotice\u001b[0m\u001b[1;39;49m]\u001b[0m\u001b[39;49m A new release of pip is available: \u001b[0m\u001b[31;49m25.0.1\u001b[0m\u001b[39;49m -> \u001b[0m\u001b[32;49m25.1\u001b[0m\n",
      "\u001b[1m[\u001b[0m\u001b[34;49mnotice\u001b[0m\u001b[1;39;49m]\u001b[0m\u001b[39;49m To update, run: \u001b[0m\u001b[32;49mpip install --upgrade pip\u001b[0m\n"
     ]
    }
   ],
   "source": [
    "# Installing OpenCV with GUI support (not headless). \n",
    "    # The headless version excludes GUI dependencies like Qt and GTK which are useful for displaying images using functions like cv2.imshow, which will be needed for this project.\n",
    "\n",
    "!pip install opencv-python "
   ]
  },
  {
   "cell_type": "code",
   "execution_count": 76,
   "id": "fd1ea2a2-5d78-468e-b0ac-bc4c12e43b46",
   "metadata": {},
   "outputs": [],
   "source": [
    "# --- Standard Library Imports ---\n",
    "\n",
    "import cv2 # OpenCV: Used for image processing, computer vision tasks, and handling images.\n",
    "import os # OS module: Allows interaction with the file system — useful for creating directories and managing file paths.\n",
    "import uuid # UUID: Used to generate unique identifiers, especially for naming image files without conflicts.\n",
    "import random # Random: Helpful for testing, simulating variation, or introducing randomness in data selection.\n",
    "import numpy as np # NumPy: Fundamental for numerical operations, especially with arrays and tensors.\n",
    "                   # Tensors are multi-dimensional arrays used in deep learning for efficient data representation and GPU processing.\n",
    "from matplotlib import pyplot as plt # Matplotlib: Enables image display, graph plotting, and data visualization for debugging and model analysis."
   ]
  },
  {
   "cell_type": "code",
   "execution_count": 77,
   "id": "e30e21dd-8e03-483f-a0fd-413b2d43f64c",
   "metadata": {},
   "outputs": [],
   "source": [
    "# --- TensorFlow and Keras Imports ---\n",
    "\n",
    "# Import TensorFlow and its Keras API components.\n",
    "# We'll be using the Functional API (instead of the simpler Sequential API) to build more flexible and customizable deep learning models.\n",
    "\n",
    "import tensorflow as tf\n",
    "from tensorflow.keras.models import Model # Base class for our custom model.\n",
    "from tensorflow.keras.layers import Layer, Conv2D, Dense, MaxPooling2D, Input, Flatten # Core layers for building convolutional neural networks (CNNs)."
   ]
  },
  {
   "cell_type": "code",
   "execution_count": 78,
   "id": "8dd237df-e13f-4b9b-87cd-8a1437306f84",
   "metadata": {},
   "outputs": [],
   "source": [
    "# --- Create Folder Structure for Dataset ---\n",
    "\n",
    "# Define paths for the dataset directories:\n",
    "    # We'll store images for training in three categories: \n",
    "        # - Anchor: Reference images\n",
    "        # - Positive: Images of the same person as the anchor\n",
    "        # - Negative: Images of different people (used for contrast)\n",
    "POS_PATH = os.path.join('data', 'positive')\n",
    "NEG_PATH = os.path.join('data', 'negative')\n",
    "ANC_PATH = os.path.join('data', 'anchor')"
   ]
  },
  {
   "cell_type": "code",
   "execution_count": 79,
   "id": "9b92557c-c19f-4cdc-82d0-744a1c1252fa",
   "metadata": {},
   "outputs": [],
   "source": [
    "# Creates the directories if they don't already exist.\n",
    "# These will be used to store images collected or processed later.\n",
    "os.makedirs(POS_PATH, exist_ok=True)\n",
    "os.makedirs(NEG_PATH, exist_ok=True)\n",
    "os.makedirs(ANC_PATH, exist_ok=True)\n",
    "# exist_ok=True ensures python wont throw an error if the folder already exists"
   ]
  },
  {
   "cell_type": "code",
   "execution_count": 80,
   "id": "b0e1621e-d272-4663-a164-73538bf0f174",
   "metadata": {},
   "outputs": [],
   "source": [
    "# --- Prepare LFW Dataset for Training ---\n",
    "\n",
    "# We're using the \"Labeled Faces in the Wild\" (LFW) dataset as negative samples (i.e. different identities).\n",
    "# These images will be moved into our 'data/negative' folder.\n",
    "# The LFW dataset is extracted into a folder named 'lfw' in the same directory as this notebook.\n",
    "\n",
    "for directory in os.listdir('lfw'):\n",
    "    dir_path = os.path.join('lfw', directory)\n",
    "    \n",
    "    # Skip non-directory files (e.g., .DS_Store on macOS)\n",
    "    if not os.path.isdir(dir_path): #checking for non-directory files\n",
    "        continue #skipping to next item\n",
    "\n",
    "    # Loop through image files inside each subfolder and move them to the 'negative' directory.\n",
    "    for file in os.listdir(dir_path): \n",
    "        EX_PATH = os.path.join(dir_path, file) # Original image path\n",
    "        NEW_PATH = os.path.join(NEG_PATH, file) # New path in negative samples\n",
    "        os.replace(EX_PATH, NEW_PATH)"
   ]
  },
  {
   "cell_type": "code",
   "execution_count": 83,
   "id": "335cd2be-b465-4792-98a7-f896076483f6",
   "metadata": {},
   "outputs": [
    {
     "name": "stdout",
     "output_type": "stream",
     "text": [
      "Press 'a' to capture an anchor image, 'p' for positive, and 'q' to quit.\n"
     ]
    },
    {
     "data": {
      "text/plain": [
       "-1"
      ]
     },
     "execution_count": 83,
     "metadata": {},
     "output_type": "execute_result"
    }
   ],
   "source": [
    "# Image Capture Pipeline for Siamese Network Training\n",
    "# Utilizes OpenCV to capture live video frames and save labeled images (anchor and positive) for training the facial recognition model.\n",
    "\n",
    "# --- Collect Anchor and Positive Images from Webcam ---\n",
    "# Initialize webcam feed using OpenCV's VideoCapture class.\n",
    "# Argument 0 selects the default webcam. The 'cap' object allows us to interact with the video stream.\n",
    "\n",
    "cap = cv2.VideoCapture(0) # Initialize webcam capture using the default camera (index 0)\n",
    "\n",
    "print(\"Press 'a' to capture an anchor image, 'p' for positive, and 'q' to quit.\")\n",
    "\n",
    "# Image Resizing Utility Function\n",
    "# This function resizes any image input to a fixed 250x250 square while preserving aspect ratio.\n",
    "# Ensures uniform image dimensions required for neural network training.\n",
    "def resize_image(frame):\n",
    "    if not ret or frame is None or frame.size == 0:\n",
    "        print(\"Error: Failed to capture frame\")\n",
    "        return None\n",
    "    \n",
    "    h, w, _ = frame.shape  # Extract image dimensions (height and width)\n",
    "\n",
    "     # Resize such that the smaller side becomes 250px while preserving aspect ratio\n",
    "    if h > w:\n",
    "        scale = 250 / w\n",
    "        new_h = int(h * scale)\n",
    "        resized = cv2.resize(frame, (250, new_h), interpolation=cv2.INTER_AREA)\n",
    "        # cropping the center portion to get a 250x250 square\n",
    "        start_y = (new_h - 250) // 2\n",
    "        cropped = resized[start_y:start_y+250, 0:250] # Center crop\n",
    "    else:\n",
    "        # Height is smaller or equal, so make height = 250 and scale width proportionally\n",
    "        scale = 250 / h\n",
    "        new_w = int(w * scale)\n",
    "        resized = cv2.resize(frame, (new_w, 250), interpolation=cv2.INTER_AREA)\n",
    "        \n",
    "        # cropping the center portion to get a 250x250 square\n",
    "        start_x = (new_w - 250) // 2\n",
    "        cropped = resized[0:250, start_x:start_x+250] # Center crop\n",
    "    \n",
    "    return cropped\n",
    "\n",
    "# Ensure webcam opened successfully\n",
    "if not cap.isOpened():\n",
    "    print(\"Error: Could not open camera\")\n",
    "    exit()\n",
    "\n",
    "# Capture loop — continuously reads frames from the webcam\n",
    "while cap.isOpened(): # Read a frame; ret indicates success, frame is the image. The while loop runs as long as the camera is open.\n",
    "    ret, frame = cap.read() #cap.read() captures a frame from the webcam | ret is a boolean data value that tells us if the frame was read successfully (True) or not (False)\n",
    "                            #frame holds a NumPy array containing the image data: The captured image: where each pixel is stored as an array of intensity values (e.g., RGB).\n",
    "    if not ret or frame is None or frame.size == 0:\n",
    "        print(\"Error: Failed to capture frame\")\n",
    "        break\n",
    "    \n",
    "    final_frame = resize_image(frame)\n",
    "\n",
    "    # Display the live webcam feed in a window titled 'Image Collection'\n",
    "    cv2.imshow('Image Collection', final_frame)\n",
    "    # This line is placed *after* frame processing and just before key input check,\n",
    "    # ensuring the displayed frame is the latest valid resized version.\n",
    "\n",
    "    # --- Image Capture Logic ---\n",
    "\n",
    "    # Anchor Image Capture\n",
    "    if cv2.waitKey(1) & 0xFF == ord('a'): #waits one millisecond then checks whats been pressed\n",
    "        imgname = os.path.join(ANC_PATH, '{}.jpg'.format(uuid.uuid1())) # Generate unique filename and filepath\n",
    "        cv2.imwrite(imgname, final_frame) #write out anchor image\n",
    "\n",
    "    # Collect positive image when 'p' is pressed\n",
    "    if cv2.waitKey(1) & 0xFF == ord('p'): \n",
    "        imgname = os.path.join(POS_PATH, '{}.jpg'.format(uuid.uuid1())) # Generate unique filename and filepath\n",
    "        cv2.imwrite(imgname, final_frame) #write out positive image\n",
    "        \n",
    "    # Exit loop when 'q' is pressed\n",
    "    if cv2.waitKey(1) & 0xFF == ord('q'):#wait one millisecond then chek whats been pressed\n",
    "        break\n",
    "\n",
    "\n",
    "# Release webcam and close any OpenCV windows\n",
    "cap.release()#releases the webcam\n",
    "cv2.destroyAllWindows() #closes the image show frame\n",
    "cv2.waitKey(1) # Ensures windows close properly - Allows OpenCV to process GUI closing events"
   ]
  },
  {
   "cell_type": "code",
   "execution_count": 87,
   "id": "3c2e33a3-5b89-4ce1-8c7f-115056ea9f1c",
   "metadata": {},
   "outputs": [],
   "source": [
    "# -----------------------------\n",
    "# Data Augmentation for Model Robustness\n",
    "# -----------------------------\n",
    "# This function applies controlled random transformations to increase the diversity of the training dataset.\n",
    "# It improves model generalization by simulating real-world variations in the input data.\n",
    "\n",
    "def data_aug(img):\n",
    "    data = []\n",
    "    for i in range(3): # Generate 3 augmented versions per image\n",
    "        img = tf.image.stateless_random_brightness(img, max_delta=0.02, seed=(1,2)) # Slight brightness variation\n",
    "        img = tf.image.stateless_random_contrast(img, lower=0.6, upper=1, seed=(1,3))\n",
    "        #img = tf.image.stateless_random_crop(img, size=(20,20,3), seed=(1,2))\n",
    "        img = tf.image.stateless_random_flip_left_right(img, seed=(np.random.randint(100),np.random.randint(100)))\n",
    "        #img = tf.image.stateless_random_jpeg_quality(img, min_jpeg_quality=90, max_jpeg_quality=100, seed=(np.random.randint(100),np.random.randint(100)))\n",
    "        #img = tf.image.stateless_random_saturation(img, lower=0.9,upper=1, seed=(np.random.randint(100),np.random.randint(100)))\n",
    "        data.append(img)\n",
    "    \n",
    "    return data"
   ]
  },
  {
   "cell_type": "code",
   "execution_count": 88,
   "id": "6aa4130c-5fda-441e-9be8-78271a962a50",
   "metadata": {},
   "outputs": [],
   "source": [
    "import os\n",
    "import uuid"
   ]
  },
  {
   "cell_type": "code",
   "execution_count": 89,
   "id": "302a6092-00bc-46d3-b6a1-4648591cc992",
   "metadata": {},
   "outputs": [],
   "source": [
    "#code for some testing\n",
    "#this is how we would test a real life model - we are testing on a single image to see what the impact of this data augmentation would be\n",
    "#img_path = os.path.join(ANC_PATH, '924e839c-135f-11ec-b54e-a0cec8d2d278.jpg')\n",
    "#img = cv2.imread(img_path)\n",
    "#augmented_images = data_aug(img)\n",
    "\n",
    "#for image in augmented_images:\n",
    "#    cv2.imwrite(os.path.join(ANC_PATH, '{}.jpg'.format(uuid.uuid1())), image.numpy())"
   ]
  },
  {
   "cell_type": "code",
   "execution_count": 90,
   "id": "7db18f4b-092a-43a1-934e-968d954c59b5",
   "metadata": {},
   "outputs": [],
   "source": [
    "# Augment all images in the positive image directory\n",
    "for file_name in os.listdir(os.path.join(POS_PATH)):\n",
    "     # Skip files that are not image files\n",
    "    if not file_name.lower().endswith(('.jpg','.jpeg','.png')): # Skipping non-image files\n",
    "        continue\n",
    "    \n",
    "    img_path = os.path.join(POS_PATH, file_name)\n",
    "    img = cv2.imread(img_path)\n",
    "    \n",
    "    if img is None:\n",
    "        print(f\"Warning: could not read image {img_path}\")\n",
    "        continue\n",
    "    # Apply data augmentation to the loaded image   \n",
    "    augmented_images = data_aug(img) \n",
    "    \n",
    "    # Save each augmented image back to the positive directory with a unique name\n",
    "    for image in augmented_images:\n",
    "        cv2.imwrite(os.path.join(POS_PATH, '{}.jpg'.format(uuid.uuid1())), image.numpy())\n"
   ]
  },
  {
   "cell_type": "code",
   "execution_count": 91,
   "id": "0abdfe42-746c-4bda-86d2-fcbcbb3fb38b",
   "metadata": {},
   "outputs": [],
   "source": [
    "# Repeat the augmentation process for the anchor image directory\n",
    "for file_name in os.listdir(os.path.join(ANC_PATH)):\n",
    "    if not file_name.lower().endswith(('.jpg','.jpeg','.png')): # Skipping non-image files\n",
    "        continue\n",
    "    \n",
    "    img_path = os.path.join(ANC_PATH, file_name)\n",
    "    img = cv2.imread(img_path)\n",
    "    \n",
    "    if img is None:\n",
    "        print(f\"Warning: could not read image {img_path}\")\n",
    "        continue\n",
    "        \n",
    "    augmented_images = data_aug(img) \n",
    "    \n",
    "    for image in augmented_images:\n",
    "        cv2.imwrite(os.path.join(ANC_PATH, '{}.jpg'.format(uuid.uuid1())), image.numpy())\n"
   ]
  },
  {
   "cell_type": "code",
   "execution_count": 92,
   "id": "782e0cd8-afd2-4802-bfe5-0adac0a439c0",
   "metadata": {},
   "outputs": [],
   "source": [
    "# Load file paths as TensorFlow datasets (used for training Siamese networks)\n",
    "anchor = tf.data.Dataset.list_files(ANC_PATH + '/*.jpg').take(1000) # Load up to 1000 anchor image paths\n",
    "positive = tf.data.Dataset.list_files(POS_PATH + '/*.jpg').take(1000) # Load up to 1000 positive image paths\n",
    "negative  = tf.data.Dataset.list_files(NEG_PATH + '/*.jpg').take(1000) # Load up to 1000 negative image paths\n"
   ]
  },
  {
   "cell_type": "code",
   "execution_count": 93,
   "id": "c82ea74c-a36c-4a3b-a411-17c982b1aac4",
   "metadata": {},
   "outputs": [
    {
     "name": "stdout",
     "output_type": "stream",
     "text": [
      "b'data/anchor/1f2ee2ce-1167-11f0-967e-c227c87a1e56.jpg'\n"
     ]
    }
   ],
   "source": [
    "#this code is just testing to show the concept and reason for using the numpy iterator\n",
    "# Converts anchor dataset into a NumPy-compatible iterator\n",
    "# This is useful for quick inspection or custom preprocessing outside TensorFlow\n",
    "\n",
    "dir_test = anchor.as_numpy_iterator() #converts the anchor object to a standard python iterator\n",
    "print(dirtest.next()# Print first file path (as numpy string)"
   ]
  },
  {
   "cell_type": "code",
   "execution_count": 94,
   "id": "dab9226e-f450-4de8-b840-bc78d56b0c2f",
   "metadata": {},
   "outputs": [],
   "source": [
    "# Preprocessing function to decode, resize, and normalize images\n",
    "# Handles decoding errors gracefully and ensures consistent input shape\n",
    "\n",
    "def preprocess(file_path):\n",
    "    try:\n",
    "        #read the file\n",
    "        byte_img = tf.io.read_file(file_path) #load our image from the file path. Will read our file as a bytes-like object\n",
    "        \n",
    "        try:\n",
    "            #here we are using a tensorflow method decode to decode and load in the image\n",
    "            img = tf.io.decode_jpeg(byte_img) #decode the jpeg\n",
    "\n",
    "            img = tf.image.resize(img, (100,100)) #resize image to be 100x100 pixels as this is the size that our neural network needs the input to be.\n",
    "\n",
    "            img = img / 255.0 # Normalize pixel values to range [0, 1]\n",
    "\n",
    "            return img\n",
    "   \n",
    "        except:\n",
    "            # Try fallback to decode_image which handles multiple formats\n",
    "            try:\n",
    "                img = tf.io.decode_image(byte_img, channels=3)\n",
    "                img = tf.image.resize(img, (100, 100))\n",
    "                img = img / 255.0\n",
    "                return img\n",
    "                \n",
    "            except:\n",
    "                print(f\"Error: Could not decode image at {file_path}\")\n",
    "                return tf.zeros((100, 100, 3), dtype=tf.float32)\n",
    "\n",
    "    except Exception as e:\n",
    "        print(f\"Error reading file {file_path}: {str(e)}\")\n",
    "        return tf.zeros((100, 100, 3), dtype=tf.float32)\n",
    "\n",
    "# Example usage:\n",
    "# img = preprocess('data/anchor/example.jpg')  # Returns a scaled and resized image tensor\n",
    "# plt.imshow(img)                              # Visualize the image\n",
    "# img.numpy().min(), img.numpy().max()         # Check pixel range (should be ~0.0 to ~1.0 after normalization)"
   ]
  },
  {
   "cell_type": "code",
   "execution_count": 95,
   "id": "0222f164-88d6-47ac-8346-16d60324c900",
   "metadata": {},
   "outputs": [],
   "source": [
    "# Demonstrates the use of the preprocess function:\n",
    "# img = preprocess('data/anchor/example.jpg')\n",
    "# plt.imshow(img)  # Displays the decoded, resized, and normalized image"
   ]
  },
  {
   "cell_type": "code",
   "execution_count": 96,
   "id": "d9feaa0f-325f-4358-8844-1bfa3666cb5e",
   "metadata": {},
   "outputs": [],
   "source": [
    "# Create positive and negative labeled datasets\n",
    "# Each element is a tuple: (anchor_path, comparison_path, label)\n",
    "# Label is 1 for positive pair, 0 for negative pair\n",
    "\n",
    "positives = tf.data.Dataset.zip((anchor, positive, tf.data.Dataset.from_tensor_slices(tf.ones(len(anchor)))))\n",
    "negatives = tf.data.Dataset.zip((anchor, negative, tf.data.Dataset.from_tensor_slices(tf.zeros(len(anchor)))))\n",
    "\n",
    "# Merge both datasets into a unified training dataset\n",
    "# This forms the complete training set used for contrastive or triplet loss\n",
    "# Format: (anchor, comparison, label)\n",
    "\n",
    "data = positives.concatenate(negatives)\n",
    "\n"
   ]
  },
  {
   "cell_type": "code",
   "execution_count": 97,
   "id": "9db817be-5b15-4069-9117-e62580d08d37",
   "metadata": {},
   "outputs": [],
   "source": [
    "# samples = data.as_numpy_iterator()\n",
    "# example = samples.next()  \n",
    "# Retrieves one (anchor, positive/negative, label) sample from the dataset.\n",
    "# Think of the positive as the \"twin\" of the anchor in a matching pair."
   ]
  },
  {
   "cell_type": "code",
   "execution_count": 98,
   "id": "dd5f7491-e202-407a-a20a-c40820723a6f",
   "metadata": {},
   "outputs": [],
   "source": [
    "#by this point we've created out labelled dataset, and now need to build, train and test partition which will be done below"
   ]
  },
  {
   "cell_type": "code",
   "execution_count": 99,
   "id": "c6d9f54a-00e6-4564-aabe-d5c66883e92b",
   "metadata": {},
   "outputs": [],
   "source": [
    "# Define a function to preprocess both the anchor and comparison images (positive or negative) in each pair.\n",
    "# This function is mapped across the dataset to prepare it for training.\n",
    "# This returns a tuple of (processed anchor, processed comparison, label).\n",
    "\n",
    "def preprocess_twin(input_img, validation_img, label):\n",
    "    return(preprocess(input_img), preprocess(validation_img), label)"
   ]
  },
  {
   "cell_type": "code",
   "execution_count": 100,
   "id": "0891203e-bb3b-4e74-b7da-6ded06aa89ae",
   "metadata": {},
   "outputs": [],
   "source": []
  },
  {
   "cell_type": "code",
   "execution_count": 101,
   "id": "98b0eb0b-b86d-4fdf-add4-514c712d1c95",
   "metadata": {},
   "outputs": [],
   "source": []
  },
  {
   "cell_type": "code",
   "execution_count": 102,
   "id": "edca4024-8b7a-4316-a1f2-bae1f4a992ca",
   "metadata": {},
   "outputs": [],
   "source": []
  },
  {
   "cell_type": "code",
   "execution_count": 103,
   "id": "d5a00ef1-bf75-49a7-aefc-cb0efd8f982a",
   "metadata": {},
   "outputs": [],
   "source": [
    "# Building dataloader pipeline\n",
    "# Apply preprocessing to every element in the dataset.\n",
    "# Each dataset item is a tuple: (anchor_path, validation_path, label).\n",
    "\n",
    "data = data.map(preprocess_twin)\n",
    "\n",
    "# Shuffle the dataset to randomize the order of samples (helps prevent model bias).\n",
    "# buffer_size=1024 holds that many elements in memory during shuffling for better randomness.\n",
    "data = data.shuffle(buffer_size = 1024)\n",
    "\n",
    "# NOTE: We're not caching the full dataset here to avoid excessive memory usage.\n",
    "    # We'll selectively cache only the training data below for efficiency."
   ]
  },
  {
   "cell_type": "code",
   "execution_count": 109,
   "id": "60887593-c8a4-45a4-bd57-cb834502b538",
   "metadata": {},
   "outputs": [],
   "source": [
    "# -------- Training Data Preparation --------\n",
    "\n",
    "# Split the dataset: take the first 70% for training.\n",
    "train_data = data.take(round(len(data)*.7)) # Grabs the first 70% of the dataset (after shuffling) and rounds to the nearest whole number to ensure a valid number of samples.train_data = train_data.cache() # Cache only the train_data\n",
    "\n",
    "# Cache only the training dataset to avoid recomputation in multiple epochs.\n",
    "train_data = train_data.batch(16) # Batch data in groups of 16 images to improve training efficiency\n",
    "\n",
    "# Prefetch 8 batches ahead to prepare the next set of samples while the current batch is being processed.\n",
    "# This reduces input latency and maximizes GPU/CPU utilization.\n",
    "train_data = train_data.prefetch(8) # Prefetches 8 batches ahead to reduce waiting time and improve GPU utilization by overlapping preprocessing and training\n"
   ]
  },
  {
   "cell_type": "code",
   "execution_count": 113,
   "id": "be5d9419-ca09-41e7-b9a5-f4ddf9c8f600",
   "metadata": {},
   "outputs": [],
   "source": [
    "# -------- Testing Data Preparation --------\n",
    "\n",
    "# Skip the first 70% of the data to avoid overlap with training data.\n",
    "test_data = data.skip(round(len(data)*.7))\n",
    "\n",
    "# Then take the remaining 30% as the testing set.\n",
    "test_data = test_data.take(round(len(data)*.3)) \n",
    "\n",
    "# Apply the same batching and prefetching logic to testing data for consistency.\n",
    "test_data = test_data.batch(16)\n",
    "test_data = test_data.prefetch(8)"
   ]
  },
  {
   "cell_type": "code",
   "execution_count": 114,
   "id": "b9b28d87-e285-4c48-b069-edd7d3fbfaba",
   "metadata": {},
   "outputs": [],
   "source": [
    "# Construct embedding model for facial verification using a CNN.\n",
    "# This model extracts high-level features from images and converts them into embeddings (vector representations).\n",
    "\n",
    "def make_embedding():\n",
    "    \n",
    "    # Define fixed input shape required by Keras Functional API\n",
    "    inp = Input(shape = (100, 100, 3), name = \"input_image\") #defines a fixed input shape for the model\n",
    "    \n",
    "    # First Conv Block: captures basic patterns (edges, textures)\n",
    "    c1 = Conv2D(64, (10,10), activation = 'relu')(inp)\n",
    "    m1 = MaxPooling2D(64, (2,2), padding = 'same')(c1) \n",
    "\n",
    "    # Second Conv Block: increases filters to 128, detects more complex features\n",
    "    c2 = Conv2D(128, (7,7), activation = 'relu')(m1)\n",
    "    m2 = MaxPooling2D(64, (2,2), padding = 'same')(c2)\n",
    "\n",
    "    # Third Conv Block: reduces filter size to focus on finer facial details\n",
    "    c3 = Conv2D(124, (4,4), activation = 'relu')(m2)\n",
    "    m3 = MaxPooling2D(64, (2,2), padding = 'same')(c3)\n",
    "\n",
    "    # Final Conv Block: deeper feature extraction\n",
    "    c4 = Conv2D(256, (4,4), activation = 'relu')(m3) #Final feature extraction, learning deep facial patterns.\n",
    "    \n",
    "    # Flatten and Dense layer to create the final 1D embedding\n",
    "    f1 = Flatten()(c4)\n",
    "    d1 = Dense(4096, activation = 'sigmoid')(f1) # Sigmoid bounds output between 0 and 1 for consistent distance comparison\n",
    "    \n",
    "    return Model(inputs=[inp], outputs=[d1], name='embedding') "
   ]
  },
  {
   "cell_type": "code",
   "execution_count": 115,
   "id": "78c4021f-9b36-4905-ab0e-347a26e2d148",
   "metadata": {},
   "outputs": [],
   "source": [
    "embedding = make_embedding()"
   ]
  },
  {
   "cell_type": "code",
   "execution_count": 116,
   "id": "aa70cdd1-e413-4930-93f6-f23636a8f8cf",
   "metadata": {
    "collapsed": true,
    "jupyter": {
     "outputs_hidden": true
    }
   },
   "outputs": [
    {
     "name": "stdout",
     "output_type": "stream",
     "text": [
      "Model: \"embedding\"\n",
      "_________________________________________________________________\n",
      " Layer (type)                Output Shape              Param #   \n",
      "=================================================================\n",
      " input_image (InputLayer)    [(None, 100, 100, 3)]     0         \n",
      "                                                                 \n",
      " conv2d (Conv2D)             (None, 91, 91, 64)        19264     \n",
      "                                                                 \n",
      " max_pooling2d (MaxPooling2  (None, 46, 46, 64)        0         \n",
      " D)                                                              \n",
      "                                                                 \n",
      " conv2d_1 (Conv2D)           (None, 40, 40, 128)       401536    \n",
      "                                                                 \n",
      " max_pooling2d_1 (MaxPoolin  (None, 20, 20, 128)       0         \n",
      " g2D)                                                            \n",
      "                                                                 \n",
      " conv2d_2 (Conv2D)           (None, 17, 17, 124)       254076    \n",
      "                                                                 \n",
      " max_pooling2d_2 (MaxPoolin  (None, 9, 9, 124)         0         \n",
      " g2D)                                                            \n",
      "                                                                 \n",
      " conv2d_3 (Conv2D)           (None, 6, 6, 256)         508160    \n",
      "                                                                 \n",
      " flatten (Flatten)           (None, 9216)              0         \n",
      "                                                                 \n",
      " dense (Dense)               (None, 4096)              37752832  \n",
      "                                                                 \n",
      "=================================================================\n",
      "Total params: 38935868 (148.53 MB)\n",
      "Trainable params: 38935868 (148.53 MB)\n",
      "Non-trainable params: 0 (0.00 Byte)\n",
      "_________________________________________________________________\n"
     ]
    }
   ],
   "source": [
    "embedding.summary()"
   ]
  },
  {
   "cell_type": "code",
   "execution_count": 117,
   "id": "702f7af2-6d26-481e-8fa5-41db4de86e62",
   "metadata": {},
   "outputs": [],
   "source": [
    "# Custom L1 Distance layer to compare two embeddings (Manhattan Distance)\n",
    "class L1Dist(Layer): \n",
    "    def __init__(self, **kwargs): \n",
    "        super().__init__()\n",
    "    \n",
    "    def call(self, input_embedding, validation_embedding): #this defines how the layer processes inputs\n",
    "        return tf.math.abs(input_embedding - validation_embedding) # Computes element-wise absolute difference between the two embeddings, implementing L1 Distance (Manhattan Distance)."
   ]
  },
  {
   "cell_type": "code",
   "execution_count": 118,
   "id": "aa8591f1-b45a-4d2c-b7de-1045a936ca40",
   "metadata": {},
   "outputs": [],
   "source": [
    "# Construct Siamese network model for face verification\n",
    "def make_siamese_model():\n",
    "    # Define inputs\n",
    "    input_image = Input(name = 'input_img', shape = (100, 100, 3))\n",
    "    validation_image = Input(name = 'validation_img', shape = (100, 100, 3))\n",
    "\n",
    "    # Generate embeddings and compute distance\n",
    "    siamese_layer = L1Dist()\n",
    "    siamese_layer._name = 'distance'\n",
    "    distances = siamese_layer(embedding(input_image), embedding(validation_image))\n",
    "\n",
    "     # Classification layer with sigmoid to output probability of match\n",
    "    classifier = Dense(1, activation = 'sigmoid')(distances)\n",
    "\n",
    "    return Model(inputs = [input_image, validation_image], outputs = classifier, name = 'SiameseNetwork')\n",
    "    "
   ]
  },
  {
   "cell_type": "code",
   "execution_count": 119,
   "id": "6b7d2ffb-4b60-4a6a-8047-dea5831a816c",
   "metadata": {},
   "outputs": [],
   "source": [
    "siamese_model = make_siamese_model()"
   ]
  },
  {
   "cell_type": "code",
   "execution_count": 120,
   "id": "d260f679-cb4f-49fb-9002-ffc587c427bf",
   "metadata": {},
   "outputs": [
    {
     "data": {
      "text/plain": [
       "array([1., 1., 1., 1., 1., 0., 1., 1., 1., 1., 0., 1., 1., 1., 1., 1.],\n",
       "      dtype=float32)"
      ]
     },
     "execution_count": 120,
     "metadata": {},
     "output_type": "execute_result"
    }
   ],
   "source": [
    "test_batch = train_data.as_numpy_iterator()\n",
    "batch_1 = test_batch.next()\n",
    "batch_1[2]"
   ]
  },
  {
   "cell_type": "code",
   "execution_count": 121,
   "id": "4286b9fe-dc13-4457-a67c-8f6e2927306c",
   "metadata": {},
   "outputs": [],
   "source": [
    "# Setup loss function and optimizer\n",
    "binary_cross_loss = tf.losses.BinaryCrossentropy() # Measures how well the model separates matching vs non-matching pairs"
   ]
  },
  {
   "cell_type": "code",
   "execution_count": 122,
   "id": "329d8c8e-45b5-451d-8473-b24036390283",
   "metadata": {},
   "outputs": [],
   "source": [
    "# Adam optimizer for efficient gradient updates and stable convergence\n",
    "opt = tf.keras.optimizers.legacy.Adam(1e-4)"
   ]
  },
  {
   "cell_type": "code",
   "execution_count": 123,
   "id": "c8ae3468-8934-4e74-a5a5-01864618480d",
   "metadata": {},
   "outputs": [],
   "source": [
    "# Establish checkpoints to save model progress during training.\n",
    "# This ensures that if training is interrupted, we can resume from a specific point.\n",
    "\n",
    "checkpoint_dir = '.\\training_checkpoints' # Directory to store checkpoints\n",
    "checkpoint_prefix = os.path.join(checkpoint_dir, 'ckpt') # Prefix for checkpoint files\n",
    "\n",
    "# Track both optimizer and model\n",
    "checkpoint = tf.train.Checkpoint(opt = opt, siamese_model = siamese_model) # Checkpoint class to save optimizer and model"
   ]
  },
  {
   "cell_type": "code",
   "execution_count": 124,
   "id": "c61fbb80-5eeb-41be-a7cf-941bd5cc22fb",
   "metadata": {},
   "outputs": [],
   "source": [
    "# Build train step function\n",
    "# This function defines the operations for training a single batch of data:\n",
    "# 1. Perform a forward pass\n",
    "# 2. Compute the loss\n",
    "# 3. Calculate gradients\n",
    "# 4. Apply backpropagation to update model weights\n",
    "\n",
    "@tf.function  # Compiles into a TensorFlow graph for faster execution\n",
    "def train_step(batch):\n",
    "    #record all of our operations\n",
    "    with tf.GradientTape() as tape: #performs differentiations which allows us to capture our gradient from our neural network model\n",
    "\n",
    "        # Extract input images (anchor and positive(validation) images)\n",
    "        X = batch[:2]\n",
    "        # Extract true labels\n",
    "        y = batch[2]\n",
    "\n",
    "        # Forward pass\n",
    "        ypred = siamese_model(X, training = True) # Pass input to model; training=True enables training-specific behavior\n",
    "                                            \n",
    "        # Calculate loss\n",
    "        loss = binary_cross_loss(y, ypred) # Compare predicted and true labels to get loss\n",
    "        \n",
    "    print(loss)\n",
    "    \n",
    "    # Compute gradients\n",
    "    grad = tape.gradient(loss, siamese_model.trainable_variables)\n",
    "    \n",
    "    # Apply gradients to update model weights\n",
    "    opt.apply_gradients(zip(grad, siamese_model.trainable_variables))#our optimiser is applying our learning rate \n",
    "    \n",
    "    return loss \n",
    "#could add code to return loss values "
   ]
  },
  {
   "cell_type": "code",
   "execution_count": 125,
   "id": "fa2a6b4f-c753-4ee9-9e7b-1232bb4a4e46",
   "metadata": {},
   "outputs": [],
   "source": [
    "#Import metric calculations\n",
    "from tensorflow.keras.metrics import Precision, Recall"
   ]
  },
  {
   "cell_type": "code",
   "execution_count": 132,
   "id": "6b055adf-6f76-4ce9-b169-c2f2a7953f0e",
   "metadata": {},
   "outputs": [],
   "source": [
    "# Build the training loop\n",
    "# Applies the train_step to each batch and loops over the entire dataset for multiple epochs\n",
    "\n",
    "def train(data, EPOCHS):\n",
    "    \n",
    "    #loop through the epochs\n",
    "    for epoch in range(1, EPOCHS+1):    \n",
    "        print('/n Epoch {}/{}'.format(epoch, EPOCHS))\n",
    "        progbar = tf.keras.utils.Progbar(len(data))\n",
    "\n",
    "        # Initialize metrics\n",
    "        r = Recall()\n",
    "        p = Precision()\n",
    "        \n",
    "        # Loop through each batch in the dataset\n",
    "        for idx, batch in enumerate(data):\n",
    "            #run train step here\n",
    "            loss = train_step(batch)\n",
    "            \n",
    "            # Predict using the current model\n",
    "            yhat = siamese_model.predict(batch[:2])\n",
    "\n",
    "            # Update evaluation metrics\n",
    "            r.update_state(batch[2], yhat) #to update recall\n",
    "            p.update_state(batch[2], yhat) #to update precision\n",
    "\n",
    "            # Update progress bar\n",
    "            progbar.update(idx + 1)\n",
    "\n",
    "        # Print final metrics after each epoch           \n",
    "        print(loss.numpy(), r.result().numpy(), p.result().numpy())\n",
    "            \n",
    "        # Save model checkpoint every 10 epochs\n",
    "        if epoch % 10 == 0:\n",
    "            checkpoint.save(file_prefix = checkpoint_prefix)\n",
    "\n",
    "\n",
    "        "
   ]
  },
  {
   "cell_type": "code",
   "execution_count": 133,
   "id": "c3f2cff1-987b-4edc-ad00-816547b5b32d",
   "metadata": {},
   "outputs": [],
   "source": [
    "# Train the model\n",
    "EPOCHS = 50\n",
    "train(train_data, EPOCHS)"
   ]
  },
  {
   "cell_type": "code",
   "execution_count": null,
   "id": "30385b6e-bd6b-46a7-9ed4-0cd37cf52fa5",
   "metadata": {},
   "outputs": [],
   "source": [
    "#IMPORT METRICS SECTION"
   ]
  },
  {
   "cell_type": "code",
   "execution_count": 135,
   "id": "118caf10-2107-4ead-aec0-fd7abba88c2c",
   "metadata": {},
   "outputs": [],
   "source": [
    "#EVALUATE THE MODEL\n",
    "# To assess model performance, we will use two key metrics: precision and recall\n",
    "    #Ideally, these aim to measure the accuracy of our model and how well it's performing classification \n",
    "\n",
    "# Assess model performance using precision and recall\n",
    "\n",
    "from tensorflow.keras.metrics import Precision, Recall # Import precision and recall metrics from Keras library"
   ]
  },
  {
   "cell_type": "code",
   "execution_count": 136,
   "id": "010e49be-8a5f-41a9-a19a-8fb2cf868f7a",
   "metadata": {},
   "outputs": [],
   "source": [
    "#GET BATCHES OF DATA AND MAKE PREDICTIONS"
   ]
  },
  {
   "cell_type": "code",
   "execution_count": 137,
   "id": "425a9837-0748-41aa-9e98-8ed39370d3fa",
   "metadata": {},
   "outputs": [],
   "source": [
    "# Get a batch of test data\n",
    "test_input, test_val, y_true = test_data.as_numpy_iterator().next()"
   ]
  },
  {
   "cell_type": "code",
   "execution_count": 138,
   "id": "08a27b3e-3800-4bf9-850d-ad1717ba224e",
   "metadata": {},
   "outputs": [
    {
     "name": "stdout",
     "output_type": "stream",
     "text": [
      "1/1 [==============================] - 0s 11ms/step\n"
     ]
    },
    {
     "data": {
      "text/plain": [
       "array([[1.00000000e+00],\n",
       "       [9.99999881e-01],\n",
       "       [1.00000000e+00],\n",
       "       [1.00000000e+00],\n",
       "       [7.25023863e-09],\n",
       "       [1.05321885e-08],\n",
       "       [1.30219480e-08],\n",
       "       [2.36603155e-05],\n",
       "       [6.56586008e-06],\n",
       "       [1.90474072e-08],\n",
       "       [9.99996662e-01],\n",
       "       [2.62336670e-07],\n",
       "       [1.00000000e+00],\n",
       "       [9.99994516e-01],\n",
       "       [1.15351986e-06],\n",
       "       [3.31718608e-09]], dtype=float32)"
      ]
     },
     "execution_count": 138,
     "metadata": {},
     "output_type": "execute_result"
    }
   ],
   "source": [
    "# Make predictions on the test batch\n",
    "y_pred = siamese_model.predict([test_input, test_val])\n",
    "y_pred"
   ]
  },
  {
   "cell_type": "code",
   "execution_count": 139,
   "id": "e7f5e0d7-6e9f-4b66-8882-e2c6e5efedd3",
   "metadata": {},
   "outputs": [
    {
     "data": {
      "text/plain": [
       "[1, 1, 1, 1, 0, 0, 0, 0, 0, 0, 1, 0, 1, 1, 0, 0]"
      ]
     },
     "execution_count": 139,
     "metadata": {},
     "output_type": "execute_result"
    }
   ],
   "source": [
    "# Post-process predictions: convert probabilities to binary class labels\n",
    "[1 if prediction > 0.5 else 0 for prediction in y_pred] #looping through all values in our y_pred example and converting them\n",
    "\n",
    "# Alternatively:\n",
    "# res = []\n",
    "# for prediction in y_pred:\n",
    "#     if prediction > 0.5:\n",
    "#         res.append(1)\n",
    "#     else:\n",
    "#         res.append(0)\n",
    "\n"
   ]
  },
  {
   "cell_type": "code",
   "execution_count": 140,
   "id": "7e543e43-8e2a-490a-90f8-99a94bc03fab",
   "metadata": {},
   "outputs": [
    {
     "data": {
      "text/plain": [
       "array([1., 1., 1., 1., 0., 0., 0., 0., 0., 0., 1., 0., 1., 1., 0., 0.],\n",
       "      dtype=float32)"
      ]
     },
     "execution_count": 140,
     "metadata": {},
     "output_type": "execute_result"
    }
   ],
   "source": [
    "y_true"
   ]
  },
  {
   "cell_type": "code",
   "execution_count": 141,
   "id": "84d21daf-8a36-4177-b4b3-8e64c30b4a6d",
   "metadata": {},
   "outputs": [],
   "source": [
    "#CALCULATING METRICS"
   ]
  },
  {
   "cell_type": "code",
   "execution_count": 142,
   "id": "82ea498b-03c4-4480-9df0-ddc16074d390",
   "metadata": {},
   "outputs": [
    {
     "data": {
      "text/plain": [
       "1.0"
      ]
     },
     "execution_count": 142,
     "metadata": {},
     "output_type": "execute_result"
    }
   ],
   "source": [
    "#CREATING A METRIC OBJECT\n",
    "# Create metric object and calculate recall\n",
    "m = Recall()\n",
    "m.update_state(y_true, y_pred)\n",
    "m.result().numpy()"
   ]
  },
  {
   "cell_type": "code",
   "execution_count": 143,
   "id": "e50097af-02f5-4a46-a935-54e1358d2d4d",
   "metadata": {},
   "outputs": [
    {
     "name": "stdout",
     "output_type": "stream",
     "text": [
      "1/1 [==============================] - 0s 11ms/step\n",
      "1/1 [==============================] - 0s 7ms/step\n",
      "1/1 [==============================] - 0s 9ms/step\n",
      "1/1 [==============================] - 0s 8ms/step\n",
      "1/1 [==============================] - 0s 7ms/step\n",
      "1/1 [==============================] - 0s 7ms/step\n",
      "1/1 [==============================] - 0s 7ms/step\n",
      "1/1 [==============================] - 0s 7ms/step\n",
      "1/1 [==============================] - 0s 7ms/step\n",
      "1/1 [==============================] - 0s 7ms/step\n",
      "1/1 [==============================] - 0s 7ms/step\n",
      "1/1 [==============================] - 0s 7ms/step\n",
      "1/1 [==============================] - 0s 7ms/step\n",
      "1/1 [==============================] - 0s 7ms/step\n",
      "1/1 [==============================] - 0s 7ms/step\n",
      "1/1 [==============================] - 0s 7ms/step\n",
      "1/1 [==============================] - 0s 7ms/step\n",
      "1/1 [==============================] - 0s 7ms/step\n",
      "1/1 [==============================] - 0s 7ms/step\n",
      "1/1 [==============================] - 0s 7ms/step\n",
      "1/1 [==============================] - 0s 7ms/step\n",
      "1/1 [==============================] - 0s 7ms/step\n",
      "1/1 [==============================] - 0s 7ms/step\n",
      "1/1 [==============================] - 0s 7ms/step\n",
      "1/1 [==============================] - 0s 7ms/step\n",
      "1/1 [==============================] - 0s 7ms/step\n",
      "1/1 [==============================] - 0s 7ms/step\n",
      "1/1 [==============================] - 0s 7ms/step\n",
      "1/1 [==============================] - 0s 7ms/step\n",
      "1/1 [==============================] - 0s 7ms/step\n",
      "1/1 [==============================] - 0s 7ms/step\n",
      "1/1 [==============================] - 0s 7ms/step\n",
      "1/1 [==============================] - 0s 7ms/step\n",
      "1/1 [==============================] - 0s 7ms/step\n",
      "1/1 [==============================] - 0s 7ms/step\n",
      "1/1 [==============================] - 0s 7ms/step\n",
      "1/1 [==============================] - 0s 7ms/step\n",
      "1/1 [==============================] - 0s 8ms/step\n",
      "1.0 1.0\n"
     ]
    }
   ],
   "source": [
    "# Evaluate on the full test dataset\n",
    "r = Recall()\n",
    "p = Precision()\n",
    "\n",
    "for test_input, test_val, y_true in test_data.as_numpy_iterator():\n",
    "    yhat = siamese_model.predict([test_input, test_val])\n",
    "    r.update_state(y_true, yhat)\n",
    "    p.update_state(y_true, yhat)\n",
    "\n",
    "print(r.result().numpy(), p.result().numpy())"
   ]
  },
  {
   "cell_type": "code",
   "execution_count": 144,
   "id": "58bd92f5-3407-4391-a69c-f9d122e07b59",
   "metadata": {},
   "outputs": [],
   "source": [
    "# VISUALIZE RESULTS\n",
    "# Compare a pair of input images from the test batch"
   ]
  },
  {
   "cell_type": "code",
   "execution_count": 145,
   "id": "879fa511-7d6d-497b-8628-fc27ed3bfa4f",
   "metadata": {},
   "outputs": [
    {
     "data": {
      "image/png": "[encoded data removed]",
      "text/plain": [
       "<Figure size 1800x800 with 2 Axes>"
      ]
     },
     "metadata": {},
     "output_type": "display_data"
    }
   ],
   "source": [
    "\n",
    "plt.figure(figsize = (18,8)) # Set the overall plot size (width, height) using matplotlib\n",
    "\n",
    "# Display anchor image\n",
    "plt.subplot(1,2,1)\n",
    "plt.imshow(test_input[3])\n",
    "\n",
    "# Display positive/negative test image\n",
    "plt.subplot(1,2,2)\n",
    "plt.imshow(test_val[3])\n",
    "\n",
    "# Show the images\n",
    "plt.show()"
   ]
  },
  {
   "cell_type": "code",
   "execution_count": 146,
   "id": "8aaf6321-d99d-4b98-907c-d1c77d007d63",
   "metadata": {},
   "outputs": [],
   "source": [
    "# Save the trained model"
   ]
  },
  {
   "cell_type": "code",
   "execution_count": 147,
   "id": "9361125a-d0d8-46ba-9912-31a56487fe16",
   "metadata": {},
   "outputs": [],
   "source": [
    "# Since we used a custom layer, we need to handle it during saving/loading\n",
    "siamese_model.save('siamesemodelv2.keras')"
   ]
  },
  {
   "cell_type": "code",
   "execution_count": 148,
   "id": "77f6b3ad-68d2-4625-a624-912b8480fd09",
   "metadata": {},
   "outputs": [],
   "source": [
    "# Reload the model, ensuring we include custom objects\n",
    "model = tf.keras.models.load_model('siamesemodelv2.keras', custom_objects = {'L1Dist': L1Dist, 'BinaryCrossentropy': tf.losses.BinaryCrossentropy})\n",
    "# We need to include the custom layer here because we'll need it when integrating with the Kivy app later"
   ]
  },
  {
   "cell_type": "code",
   "execution_count": 149,
   "id": "148f1e7f-2abe-47c2-8658-3df1c1b9bed0",
   "metadata": {},
   "outputs": [],
   "source": [
    "# Real-time test"
   ]
  },
  {
   "cell_type": "code",
   "execution_count": 150,
   "id": "733e89a9-9a9f-43e5-867f-9317a11a3a90",
   "metadata": {},
   "outputs": [
    {
     "name": "stdout",
     "output_type": "stream",
     "text": [
      "1/1 [==============================] - 0s 120ms/step\n"
     ]
    },
    {
     "data": {
      "text/plain": [
       "array([[3.9238596e-04],\n",
       "       [1.0000000e+00],\n",
       "       [2.1682110e-06],\n",
       "       [1.0000000e+00],\n",
       "       [1.7635243e-07],\n",
       "       [1.5824692e-07],\n",
       "       [9.9999845e-01],\n",
       "       [1.0000000e+00]], dtype=float32)"
      ]
     },
     "execution_count": 150,
     "metadata": {},
     "output_type": "execute_result"
    }
   ],
   "source": [
    "# Make predictions with the reloaded model\n",
    "model.predict([test_input, test_val])"
   ]
  },
  {
   "cell_type": "code",
   "execution_count": 151,
   "id": "62639db9-dc1e-47a0-b7b3-d009fec77df5",
   "metadata": {},
   "outputs": [
    {
     "name": "stdout",
     "output_type": "stream",
     "text": [
      "Model: \"SiameseNetwork\"\n",
      "__________________________________________________________________________________________________\n",
      " Layer (type)                Output Shape                 Param #   Connected to                  \n",
      "==================================================================================================\n",
      " input_img (InputLayer)      [(None, 100, 100, 3)]        0         []                            \n",
      "                                                                                                  \n",
      " validation_img (InputLayer  [(None, 100, 100, 3)]        0         []                            \n",
      " )                                                                                                \n",
      "                                                                                                  \n",
      " embedding (Functional)      (None, 4096)                 3893586   ['input_img[0][0]',           \n",
      "                                                          8          'validation_img[0][0]']      \n",
      "                                                                                                  \n",
      " l1_dist_1 (L1Dist)          (None, 4096)                 0         ['embedding[0][0]',           \n",
      "                                                                     'embedding[1][0]']           \n",
      "                                                                                                  \n",
      " dense_1 (Dense)             (None, 1)                    4097      ['l1_dist_1[0][0]']           \n",
      "                                                                                                  \n",
      "==================================================================================================\n",
      "Total params: 38939965 (148.54 MB)\n",
      "Trainable params: 38939965 (148.54 MB)\n",
      "Non-trainable params: 0 (0.00 Byte)\n",
      "__________________________________________________________________________________________________\n"
     ]
    }
   ],
   "source": [
    "# Display model summary\n",
    "model.summary()"
   ]
  },
  {
   "cell_type": "code",
   "execution_count": 152,
   "id": "151c1ed7-2761-4864-aa69-d562f123895c",
   "metadata": {},
   "outputs": [],
   "source": [
    "# Next steps\n",
    "\n",
    "# Set up verification images: one for a match (positive) and one for no match (negative)\n",
    "# Build a verification function (like Face ID)\n",
    "# Use a loop to enable real-time facial verification\n",
    "\n",
    "# Define a verification function to check input against stored samples\n",
    "# Explanation of logic is in Notion doc\n",
    "\n",
    "# Make sure the following folders are created in your working directory:\n",
    "# 'application_data/verification_images' - for positive samples (copy from 'data' folder)\n",
    "# 'application_data/input_image' - for incoming test images\n",
    "\n"
   ]
  },
  {
   "cell_type": "code",
   "execution_count": 157,
   "id": "5fcb6531-036a-4505-b955-236958c375c8",
   "metadata": {},
   "outputs": [
    {
     "data": {
      "text/plain": [
       "['77a5a060-1166-11f0-967e-c227c87a1e56.jpg',\n",
       " '760e8ce4-1166-11f0-967e-c227c87a1e56.jpg',\n",
       " '7c2d9912-1166-11f0-967e-c227c87a1e56.jpg',\n",
       " '7e5f9744-1166-11f0-967e-c227c87a1e56.jpg',\n",
       " '0ecf7394-1167-11f0-967e-c227c87a1e56.jpg',\n",
       " '80ac15a4-1166-11f0-967e-c227c87a1e56.jpg',\n",
       " '79bbdbf8-1166-11f0-967e-c227c87a1e56.jpg',\n",
       " '762d54f8-1166-11f0-967e-c227c87a1e56.jpg',\n",
       " '.DS_Store',\n",
       " '0f4e9d54-1167-11f0-967e-c227c87a1e56.jpg',\n",
       " '7ac97d20-1166-11f0-967e-c227c87a1e56.jpg',\n",
       " '7772b150-1166-11f0-967e-c227c87a1e56.jpg',\n",
       " '0d83ac4e-1167-11f0-967e-c227c87a1e56.jpg',\n",
       " '0f023b9e-1167-11f0-967e-c227c87a1e56.jpg',\n",
       " '8304447a-1166-11f0-967e-c227c87a1e56.jpg',\n",
       " '7b1619e6-1166-11f0-967e-c227c87a1e56.jpg',\n",
       " '7c60cbe8-1166-11f0-967e-c227c87a1e56.jpg',\n",
       " '7e92b610-1166-11f0-967e-c227c87a1e56.jpg',\n",
       " '788a68a8-1166-11f0-967e-c227c87a1e56.jpg',\n",
       " '80854f64-1166-11f0-967e-c227c87a1e56.jpg',\n",
       " '79098db8-1166-11f0-967e-c227c87a1e56.jpg',\n",
       " '83cfce7e-1166-11f0-967e-c227c87a1e56.jpg',\n",
       " '7ef87ae0-1166-11f0-967e-c227c87a1e56.jpg',\n",
       " '76375c1e-1166-11f0-967e-c227c87a1e56.jpg',\n",
       " '7dc6e922-1166-11f0-967e-c227c87a1e56.jpg',\n",
       " '7b94eb7c-1166-11f0-967e-c227c87a1e56.jpg',\n",
       " '774029e2-1166-11f0-967e-c227c87a1e56.jpg',\n",
       " '0f814632-1167-11f0-967e-c227c87a1e56.jpg',\n",
       " '6faa35d8-1166-11f0-967e-c227c87a1e56.jpg',\n",
       " '78f049ca-1166-11f0-967e-c227c87a1e56.jpg',\n",
       " '7a21fb36-1166-11f0-967e-c227c87a1e56.jpg',\n",
       " '7566a998-1166-11f0-967e-c227c87a1e56.jpg',\n",
       " '812b684a-1166-11f0-967e-c227c87a1e56.jpg',\n",
       " '829e96e8-1166-11f0-967e-c227c87a1e56.jpg',\n",
       " '0fa7638a-1167-11f0-967e-c227c87a1e56.jpg',\n",
       " '80f852de-1166-11f0-967e-c227c87a1e56.jpg',\n",
       " '70c7174c-1166-11f0-967e-c227c87a1e56.jpg',\n",
       " '0e9c7e6c-1167-11f0-967e-c227c87a1e56.jpg',\n",
       " '7286ad86-1166-11f0-967e-c227c87a1e56.jpg',\n",
       " '7d87643c-1166-11f0-967e-c227c87a1e56.jpg',\n",
       " '783e41f8-1166-11f0-967e-c227c87a1e56.jpg',\n",
       " '7ec56fce-1166-11f0-967e-c227c87a1e56.jpg',\n",
       " '0db78208-1167-11f0-967e-c227c87a1e56.jpg',\n",
       " '1209c79e-1167-11f0-967e-c227c87a1e56.jpg',\n",
       " '82d16a0a-1166-11f0-967e-c227c87a1e56.jpg',\n",
       " '0d385668-1167-11f0-967e-c227c87a1e56.jpg',\n",
       " '7b6222aa-1166-11f0-967e-c227c87a1e56.jpg',\n",
       " '723a4644-1166-11f0-967e-c227c87a1e56.jpg',\n",
       " '770ced34-1166-11f0-967e-c227c87a1e56.jpg',\n",
       " '796fb1ec-1166-11f0-967e-c227c87a1e56.jpg',\n",
       " '78bdb19a-1166-11f0-967e-c227c87a1e56.jpg']"
      ]
     },
     "execution_count": 157,
     "metadata": {},
     "output_type": "execute_result"
    }
   ],
   "source": [
    "os.listdir(os.path.join('application_data', 'verification_images'))"
   ]
  },
  {
   "cell_type": "code",
   "execution_count": 158,
   "id": "e310c147-a875-4132-b14d-80950f78f51d",
   "metadata": {},
   "outputs": [],
   "source": [
    "# Define the verification function\n",
    "# Arguments: model, detection threshold, verification threshold\n",
    "\n",
    "def verify(model, detection_threshold, verification_threshold):\n",
    "   # Stores prediction results\n",
    "    results = []\n",
    "    for image in os.listdir(os.path.join('application_data', 'verification_images')):\n",
    "        # Load and preprocess input and validation images\n",
    "        input_img = preprocess(os.path.join('application_data', 'input_image', 'input_image.jpg')) \n",
    "        validation_img = preprocess(os.path.join('application_data', 'verification_images', image))\n",
    "\n",
    "        # Run prediction on each validation image vs input image\n",
    "        result = model.predict(list(np.expand_dims([input_img, validation_img], axis = 1)))\n",
    "        results.append(result)\n",
    "    \n",
    "    # Calculate verification metrics\n",
    "    detection = np.sum(np.array(results) > detection_threshold) \n",
    "    verification = detection / len(os.listdir(os.path.join('application_data', 'verification_images')))\n",
    "    verified = verification > verification_threshold\n",
    "\n",
    "    return results, verified "
   ]
  },
  {
   "cell_type": "code",
   "execution_count": 159,
   "id": "8098d59f-b2e2-4c67-b4ed-a7130807d725",
   "metadata": {},
   "outputs": [
    {
     "name": "stdout",
     "output_type": "stream",
     "text": [
      "Press 'v' to verify an image, and 'q' to quit.\n",
      "Input image saved to application_data/input_image/input_image.jpg\n",
      "Input image saved to application_data/input_image/input_image.jpg\n",
      "1/1 [==============================] - 0s 53ms/step\n",
      "1/1 [==============================] - 0s 7ms/step\n",
      "1/1 [==============================] - 0s 7ms/step\n",
      "1/1 [==============================] - 0s 6ms/step\n",
      "1/1 [==============================] - 0s 7ms/step\n",
      "1/1 [==============================] - 0s 7ms/step\n",
      "1/1 [==============================] - 0s 7ms/step\n",
      "1/1 [==============================] - 0s 6ms/step\n",
      "Error: Could not decode image at application_data/verification_images/.DS_Store\n",
      "1/1 [==============================] - 0s 6ms/step\n",
      "1/1 [==============================] - 0s 7ms/step\n",
      "1/1 [==============================] - 0s 7ms/step\n",
      "1/1 [==============================] - 0s 6ms/step\n",
      "1/1 [==============================] - 0s 6ms/step\n",
      "1/1 [==============================] - 0s 7ms/step\n",
      "1/1 [==============================] - 0s 7ms/step\n",
      "1/1 [==============================] - 0s 7ms/step\n",
      "1/1 [==============================] - 0s 7ms/step\n",
      "1/1 [==============================] - 0s 7ms/step\n",
      "1/1 [==============================] - 0s 6ms/step\n",
      "1/1 [==============================] - 0s 6ms/step\n",
      "1/1 [==============================] - 0s 6ms/step\n",
      "1/1 [==============================] - 0s 7ms/step\n",
      "1/1 [==============================] - 0s 6ms/step\n",
      "1/1 [==============================] - 0s 6ms/step\n",
      "1/1 [==============================] - 0s 6ms/step\n",
      "1/1 [==============================] - 0s 7ms/step\n",
      "1/1 [==============================] - 0s 6ms/step\n",
      "1/1 [==============================] - 0s 6ms/step\n",
      "1/1 [==============================] - 0s 7ms/step\n",
      "1/1 [==============================] - 0s 11ms/step\n",
      "1/1 [==============================] - 0s 7ms/step\n",
      "1/1 [==============================] - 0s 6ms/step\n",
      "1/1 [==============================] - 0s 6ms/step\n",
      "1/1 [==============================] - 0s 7ms/step\n",
      "1/1 [==============================] - 0s 7ms/step\n",
      "1/1 [==============================] - 0s 7ms/step\n",
      "1/1 [==============================] - 0s 7ms/step\n",
      "1/1 [==============================] - 0s 7ms/step\n",
      "1/1 [==============================] - 0s 7ms/step\n",
      "1/1 [==============================] - 0s 7ms/step\n",
      "1/1 [==============================] - 0s 7ms/step\n",
      "1/1 [==============================] - 0s 7ms/step\n",
      "1/1 [==============================] - 0s 7ms/step\n",
      "1/1 [==============================] - 0s 7ms/step\n",
      "1/1 [==============================] - 0s 7ms/step\n",
      "1/1 [==============================] - 0s 7ms/step\n",
      "1/1 [==============================] - 0s 7ms/step\n",
      "1/1 [==============================] - 0s 7ms/step\n",
      "1/1 [==============================] - 0s 7ms/step\n",
      "1/1 [==============================] - 0s 6ms/step\n",
      "1/1 [==============================] - 0s 7ms/step\n",
      "Verification result: True\n",
      "Input image saved to application_data/input_image/input_image.jpg\n",
      "Input image saved to application_data/input_image/input_image.jpg\n",
      "1/1 [==============================] - 0s 9ms/step\n",
      "1/1 [==============================] - 0s 9ms/step\n",
      "1/1 [==============================] - 0s 8ms/step\n",
      "1/1 [==============================] - 0s 7ms/step\n",
      "1/1 [==============================] - 0s 8ms/step\n",
      "1/1 [==============================] - 0s 9ms/step\n",
      "1/1 [==============================] - 0s 7ms/step\n",
      "1/1 [==============================] - 0s 7ms/step\n",
      "Error: Could not decode image at application_data/verification_images/.DS_Store\n",
      "1/1 [==============================] - 0s 7ms/step\n",
      "1/1 [==============================] - 0s 7ms/step\n",
      "1/1 [==============================] - 0s 7ms/step\n",
      "1/1 [==============================] - 0s 7ms/step\n",
      "1/1 [==============================] - 0s 7ms/step\n",
      "1/1 [==============================] - 0s 7ms/step\n",
      "1/1 [==============================] - 0s 7ms/step\n",
      "1/1 [==============================] - 0s 6ms/step\n",
      "1/1 [==============================] - 0s 7ms/step\n",
      "1/1 [==============================] - 0s 6ms/step\n",
      "1/1 [==============================] - 0s 6ms/step\n",
      "1/1 [==============================] - 0s 6ms/step\n",
      "1/1 [==============================] - 0s 7ms/step\n",
      "1/1 [==============================] - 0s 7ms/step\n",
      "1/1 [==============================] - 0s 7ms/step\n",
      "1/1 [==============================] - 0s 6ms/step\n",
      "1/1 [==============================] - 0s 7ms/step\n",
      "1/1 [==============================] - 0s 7ms/step\n",
      "1/1 [==============================] - 0s 7ms/step\n",
      "1/1 [==============================] - 0s 7ms/step\n",
      "1/1 [==============================] - 0s 7ms/step\n",
      "1/1 [==============================] - 0s 7ms/step\n",
      "1/1 [==============================] - 0s 8ms/step\n",
      "1/1 [==============================] - 0s 7ms/step\n",
      "1/1 [==============================] - 0s 7ms/step\n",
      "1/1 [==============================] - 0s 7ms/step\n",
      "1/1 [==============================] - 0s 7ms/step\n",
      "1/1 [==============================] - 0s 6ms/step\n",
      "1/1 [==============================] - 0s 6ms/step\n",
      "1/1 [==============================] - 0s 7ms/step\n",
      "1/1 [==============================] - 0s 6ms/step\n",
      "1/1 [==============================] - 0s 7ms/step\n",
      "1/1 [==============================] - 0s 7ms/step\n",
      "1/1 [==============================] - 0s 7ms/step\n",
      "1/1 [==============================] - 0s 7ms/step\n",
      "1/1 [==============================] - 0s 7ms/step\n",
      "1/1 [==============================] - 0s 7ms/step\n",
      "1/1 [==============================] - 0s 12ms/step\n",
      "1/1 [==============================] - 0s 7ms/step\n",
      "1/1 [==============================] - 0s 7ms/step\n",
      "1/1 [==============================] - 0s 7ms/step\n",
      "1/1 [==============================] - 0s 7ms/step\n",
      "1/1 [==============================] - 0s 7ms/step\n",
      "Verification result: True\n",
      "Input image saved to application_data/input_image/input_image.jpg\n",
      "Input image saved to application_data/input_image/input_image.jpg\n",
      "1/1 [==============================] - 0s 9ms/step\n",
      "1/1 [==============================] - 0s 8ms/step\n",
      "1/1 [==============================] - 0s 8ms/step\n",
      "1/1 [==============================] - 0s 8ms/step\n",
      "1/1 [==============================] - 0s 7ms/step\n",
      "1/1 [==============================] - 0s 7ms/step\n",
      "1/1 [==============================] - 0s 7ms/step\n",
      "1/1 [==============================] - 0s 7ms/step\n",
      "Error: Could not decode image at application_data/verification_images/.DS_Store\n",
      "1/1 [==============================] - 0s 7ms/step\n",
      "1/1 [==============================] - 0s 7ms/step\n",
      "1/1 [==============================] - 0s 7ms/step\n",
      "1/1 [==============================] - 0s 7ms/step\n",
      "1/1 [==============================] - 0s 6ms/step\n",
      "1/1 [==============================] - 0s 6ms/step\n",
      "1/1 [==============================] - 0s 7ms/step\n",
      "1/1 [==============================] - 0s 7ms/step\n",
      "1/1 [==============================] - 0s 7ms/step\n",
      "1/1 [==============================] - 0s 7ms/step\n",
      "1/1 [==============================] - 0s 7ms/step\n",
      "1/1 [==============================] - 0s 7ms/step\n",
      "1/1 [==============================] - 0s 7ms/step\n",
      "1/1 [==============================] - 0s 7ms/step\n",
      "1/1 [==============================] - 0s 7ms/step\n",
      "1/1 [==============================] - 0s 7ms/step\n",
      "1/1 [==============================] - 0s 6ms/step\n",
      "1/1 [==============================] - 0s 6ms/step\n",
      "1/1 [==============================] - 0s 7ms/step\n",
      "1/1 [==============================] - 0s 7ms/step\n",
      "1/1 [==============================] - 0s 7ms/step\n",
      "1/1 [==============================] - 0s 7ms/step\n",
      "1/1 [==============================] - 0s 7ms/step\n",
      "1/1 [==============================] - 0s 6ms/step\n",
      "1/1 [==============================] - 0s 6ms/step\n",
      "1/1 [==============================] - 0s 7ms/step\n",
      "1/1 [==============================] - 0s 6ms/step\n",
      "1/1 [==============================] - 0s 7ms/step\n",
      "1/1 [==============================] - 0s 7ms/step\n",
      "1/1 [==============================] - 0s 7ms/step\n",
      "1/1 [==============================] - 0s 7ms/step\n",
      "1/1 [==============================] - 0s 7ms/step\n",
      "1/1 [==============================] - 0s 7ms/step\n",
      "1/1 [==============================] - 0s 7ms/step\n",
      "1/1 [==============================] - 0s 7ms/step\n",
      "1/1 [==============================] - 0s 9ms/step\n",
      "1/1 [==============================] - 0s 7ms/step\n",
      "1/1 [==============================] - 0s 7ms/step\n",
      "1/1 [==============================] - 0s 7ms/step\n",
      "1/1 [==============================] - 0s 7ms/step\n",
      "1/1 [==============================] - 0s 7ms/step\n",
      "1/1 [==============================] - 0s 7ms/step\n",
      "1/1 [==============================] - 0s 7ms/step\n",
      "Verification result: False\n",
      "Exit loop successfully\n"
     ]
    },
    {
     "ename": "SystemExit",
     "evalue": "0",
     "output_type": "error",
     "traceback": [
      "An exception has occurred, use %tb to see the full traceback.\n",
      "\u001b[0;31mSystemExit\u001b[0m\u001b[0;31m:\u001b[0m 0\n"
     ]
    },
    {
     "name": "stderr",
     "output_type": "stream",
     "text": [
      "/Users/anesah/Documents/Projects/Facial_Verification_Mobile_App/faceverapp/lib/python3.11/site-packages/IPython/core/interactiveshell.py:3587: UserWarning: To exit: use 'exit', 'quit', or Ctrl-D.\n",
      "  warn(\"To exit: use 'exit', 'quit', or Ctrl-D.\", stacklevel=1)\n"
     ]
    }
   ],
   "source": [
    "# OpenCV real-time verification setup\n",
    "cap = cv2.VideoCapture(0)\n",
    "\n",
    "print(\"Press 'v' to verify an image, and 'q' to quit.\")\n",
    "\n",
    "# Resize captured image to 250x250, preserving aspect ratio\n",
    "\n",
    "def resize_image(frame):\n",
    "    if not ret or frame is None or frame.size == 0:\n",
    "        print(\"Error: Failed to capture frame\")\n",
    "        return None\n",
    "    \n",
    "    h, w, _ = frame.shape  # Get frame dimensions\n",
    "    \n",
    "    if h > w:\n",
    "        scale = 250 / w\n",
    "        new_h = int(h * scale)\n",
    "        resized = cv2.resize(frame, (250, new_h), interpolation=cv2.INTER_AREA)        \n",
    "        start_y = (new_h - 250) // 2\n",
    "        cropped = resized[start_y:start_y+250, 0:250]\n",
    "    else:\n",
    "        scale = 250 / h\n",
    "        new_w = int(w * scale)\n",
    "        resized = cv2.resize(frame, (new_w, 250), interpolation=cv2.INTER_AREA)\n",
    "        start_x = (new_w - 250) // 2\n",
    "        cropped = resized[0:250, start_x:start_x+250]\n",
    "    \n",
    "    return cropped\n",
    "\n",
    "if not cap.isOpened(): #checking if camera was successfully opened\n",
    "    print(\"Error: Could not open camera\")\n",
    "    exit()\n",
    "    \n",
    "while cap.isOpened():\n",
    "    ret, frame = cap.read()\n",
    "    \n",
    "    if not ret or frame is None or frame.size == 0:\n",
    "        print(\"Error: Failed to capture frame\")\n",
    "        break\n",
    "\n",
    "    final_frame = resize_image(frame)\n",
    "\n",
    "    cv2.imshow('Verification', final_frame)\n",
    "    \n",
    "    # Implementing verification trigger - Press 'v' to verify\n",
    "    if cv2.waitKey(1) & 0xFF == ord('v'):\n",
    "        # Save input image to applicaton/input_image folder\n",
    "        image_path = os.path.join('application_data', 'input_image', 'input_image.jpg')\n",
    "        os.makedirs(os.path.dirname(image_path), exist_ok=True)\n",
    "        \n",
    "        # Ensure the image is saved correctly\n",
    "        success = cv2.imwrite(image_path, final_frame)\n",
    "        if not success:\n",
    "            print(f\"Error: Failed to save image to {image_path}\")\n",
    "        else:\n",
    "            print(f'Input image saved to {image_path}')\n",
    "        \n",
    "        # Ensure verification_images folder exists\n",
    "        verification_dir = os.path.join('application_data', 'verification_images')\n",
    "        os.makedirs(verification_dir, exist_ok=True)\n",
    "       \n",
    "        cv2.imwrite(image_path, final_frame)\n",
    "        print(f'Input image saved to {image_path}')\n",
    "        \n",
    "        # Run verification\n",
    "        results, verified = verify(model, 0.2, 0.2) #inputs are, model, detection threshold, verification threshold.\n",
    "        print('Verification result:', verified)\n",
    "        \n",
    "   # Press 'q' to quit   \n",
    "   #previous: if cv2.waitKey(10) & 0xFF == ord('q'):\n",
    "    elif cv2.waitKey(1) & 0xFF == ord('q'):\n",
    "        cv2.destroyAllWindows()\n",
    "        cv2.waitKey(1)\n",
    "        cap.release()\n",
    "        print(\"Exit loop successfully\")\n",
    "        break\n",
    "        \n",
    "# Exit the script gracefully\n",
    "import sys\n",
    "sys.exit(0)  \n",
    "#exit() #added to ensure than the camera stops properly. exit() has been removed as the abrubt nature of it has caused kernel to restart\n"
   ]
  }
 ],
 "metadata": {
  "kernelspec": {
   "display_name": "Python (faceverapp)",
   "language": "python",
   "name": "faceverapp"
  },
  "language_info": {
   "codemirror_mode": {
    "name": "ipython",
    "version": 3
   },
   "file_extension": ".py",
   "mimetype": "text/x-python",
   "name": "python",
   "nbconvert_exporter": "python",
   "pygments_lexer": "ipython3",
   "version": "3.11.6"
  }
 },
 "nbformat": 4,
 "nbformat_minor": 5
}
